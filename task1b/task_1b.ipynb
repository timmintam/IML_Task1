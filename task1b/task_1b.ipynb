{
 "cells": [
  {
   "cell_type": "code",
   "execution_count": 2,
   "metadata": {},
   "outputs": [],
   "source": [
    "# import libraries \n",
    "import numpy as np\n",
    "import pandas as pd"
   ]
  },
  {
   "cell_type": "code",
   "execution_count": 5,
   "metadata": {},
   "outputs": [],
   "source": [
    "# read data from csv file\n",
    "train = pd.read_csv('./task_1b_data/train.csv')\n",
    "y_train = train['y']\n",
    "X_train = train[['x1','x2','x3','x4','x5']]"
   ]
  },
  {
   "cell_type": "code",
   "execution_count": 6,
   "metadata": {},
   "outputs": [],
   "source": [
    "# inizialize feature matrices\n",
    "Phi_quad = np.zeros((X_train.shape[0],5))\n",
    "Phi_exp = np.zeros((X_train.shape[0],5))\n",
    "Phi_cos = np.zeros((X_train.shape[0],5))\n",
    "\n",
    "# compute feature matrices \n",
    "for i in range(X_train.shape[0]):\n",
    "    for j in range(5):\n",
    "        Phi_quad[i][j] = (X_train.iat[i,j])**2\n",
    "        \n",
    "for i in range(X_train.shape[0]):\n",
    "    for j in range(5):\n",
    "        Phi_exp[i][j] = np.exp((X_train.iat[i,j]))\n",
    "\n",
    "for i in range(X_train.shape[0]):\n",
    "    for j in range(5):\n",
    "        Phi_cos[i][j] = np.cos((X_train.iat[i,j]))\n",
    "\n",
    "# build the complete feature matrix \n",
    "# use directly X_train matrix as matrix for the first five features and identity vector as matrix for the last feature\n",
    "Phi = np.concatenate((X_train, Phi_quad, Phi_exp, Phi_cos, np.ones((X_train.shape[0],1))), axis = 1)\n",
    "\n",
    "#compute optimal parameter set\n",
    "w_opt = np.linalg.solve(np.dot(Phi.T, Phi), np.dot(Phi.T, y_train))\n",
    "\n",
    "# write optimal parameter set on csv file\n",
    "pd.DataFrame(w_opt).to_csv('weights.csv',header = None, index = None)"
   ]
  }
 ],
 "metadata": {
  "kernelspec": {
   "display_name": "Python 3",
   "language": "python",
   "name": "python3"
  },
  "language_info": {
   "codemirror_mode": {
    "name": "ipython",
    "version": 3
   },
   "file_extension": ".py",
   "mimetype": "text/x-python",
   "name": "python",
   "nbconvert_exporter": "python",
   "pygments_lexer": "ipython3",
   "version": "3.8.5"
  }
 },
 "nbformat": 4,
 "nbformat_minor": 4
}
