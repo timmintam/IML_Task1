{
 "cells": [
  {
   "cell_type": "code",
   "execution_count": 1,
   "id": "1aa71286",
   "metadata": {},
   "outputs": [],
   "source": [
    "import numpy as np\n",
    "import pandas as pd\n",
    "from sklearn.metrics import mean_squared_error\n",
    "from gradient_descent import Objective, gradient_descent_momentum"
   ]
  },
  {
   "cell_type": "code",
   "execution_count": 2,
   "id": "0b20d499",
   "metadata": {},
   "outputs": [],
   "source": [
    "df_train = pd.read_csv('./task1a/train.csv')\n",
    "x=df_train.iloc[:,1:].to_numpy()\n",
    "y=df_train.iloc[:,0].to_numpy()\n",
    "\n",
    "egv,evec=np.linalg.eig(np.transpose(x)@x)\n",
    "eta=1/max(egv)"
   ]
  },
  {
   "cell_type": "code",
   "execution_count": 3,
   "id": "125e0969",
   "metadata": {},
   "outputs": [],
   "source": [
    "class ToyObjective(Objective):\n",
    "    def __init__(self, x, y, lda):\n",
    "        self.x = x\n",
    "        self.y = y\n",
    "        self.lda = lda\n",
    "        \n",
    "    def __call__(self, w):\n",
    "        xw=self.x@w\n",
    "        return np.transpose(xw)@xw-2*np.transpose(xw)@y+np.transpose(y)@y + self.lda*np.transpose(w)@w\n",
    "        #return np.sum(np.square((self.y - self.x@w))) + self.lda*np.sum(np.square(w))\n",
    "    \n",
    "    \n",
    "    def grad(self, w):\n",
    "        return  2*np.sum(-np.transpose(np.transpose(self.x)*(self.y - self.x@w)), axis=0) + 2*lda*w\n"
   ]
  },
  {
   "cell_type": "code",
   "execution_count": 4,
   "id": "7f796849",
   "metadata": {},
   "outputs": [
    {
     "data": {
      "text/plain": [
       "array([1.36453442e+06, 2.60013378e+06, 3.25741215e+06, 2.05640834e+04,\n",
       "       1.51695525e+05, 1.66054856e+06, 1.89186640e+07, 9.86574602e+05,\n",
       "       3.06095032e+06, 1.21525881e+08, 4.99641194e+06, 9.32659237e+07,\n",
       "       3.77396939e+06])"
      ]
     },
     "execution_count": 4,
     "metadata": {},
     "output_type": "execute_result"
    }
   ],
   "source": [
    "lda=0.1\n",
    "obj = ToyObjective(x,y,lda)\n",
    "w = np.ones(13)\n",
    "obj.grad(w)"
   ]
  },
  {
   "cell_type": "code",
   "execution_count": 5,
   "id": "c75fb503",
   "metadata": {},
   "outputs": [],
   "source": [
    "learning_rate = 0.9*eta\n",
    "tol = 1e-10\n",
    "n_steps = 100000\n",
    "w_init = w\n",
    "normalize = False"
   ]
  },
  {
   "cell_type": "code",
   "execution_count": 6,
   "id": "913de80a",
   "metadata": {
    "scrolled": true
   },
   "outputs": [
    {
     "data": {
      "text/plain": [
       "array([1.24918764e+08, 7.30894673e+08, 1.62852982e+08, ...,\n",
       "       3.83259316e+03, 3.83259287e+03, 3.83259259e+03])"
      ]
     },
     "execution_count": 6,
     "metadata": {},
     "output_type": "execute_result"
    }
   ],
   "source": [
    "results = gradient_descent_momentum(obj, w_init, learning_rate=learning_rate, tol=tol, n_steps=n_steps, normalize=normalize)\n",
    "results[2]"
   ]
  },
  {
   "cell_type": "code",
   "execution_count": 7,
   "id": "fefbe94a",
   "metadata": {},
   "outputs": [
    {
     "data": {
      "text/plain": [
       "array([-4.28938293e-02,  4.18525890e-02, -3.67907429e-04,  1.92102190e+00,\n",
       "        1.04606022e+00,  5.03484713e+00,  1.54380322e-02, -7.19715963e-01,\n",
       "        3.79089620e-01, -1.35815011e-02, -3.05515078e-01,  2.14489609e-02,\n",
       "       -6.41289939e-01])"
      ]
     },
     "execution_count": 7,
     "metadata": {},
     "output_type": "execute_result"
    }
   ],
   "source": [
    "w_opt=results[0]\n",
    "w_opt"
   ]
  },
  {
   "cell_type": "code",
   "execution_count": 8,
   "id": "942a368c",
   "metadata": {},
   "outputs": [
    {
     "data": {
      "text/plain": [
       "3829.4620835590963"
      ]
     },
     "execution_count": 8,
     "metadata": {},
     "output_type": "execute_result"
    }
   ],
   "source": [
    "np.sum(np.square((y - x@w_opt)))"
   ]
  },
  {
   "cell_type": "code",
   "execution_count": 9,
   "id": "960c07cd",
   "metadata": {},
   "outputs": [
    {
     "data": {
      "text/plain": [
       "array([-1.88607595e-01,  2.46131641e-01,  8.18189194e-01, -2.80727977e+01,\n",
       "        6.11300607e+00, -2.49610673e+01,  4.95356026e-01,  5.85294956e+00,\n",
       "       -3.49964704e-01,  5.03370667e-03,  5.85402320e+00,  1.64170247e-02,\n",
       "       -1.95838869e+00])"
      ]
     },
     "execution_count": 9,
     "metadata": {},
     "output_type": "execute_result"
    }
   ],
   "source": [
    "obj.grad(w_opt)"
   ]
  },
  {
   "cell_type": "code",
   "execution_count": 12,
   "id": "822a9f6f",
   "metadata": {},
   "outputs": [
    {
     "data": {
      "text/plain": [
       "(135, 13)"
      ]
     },
     "execution_count": 12,
     "metadata": {},
     "output_type": "execute_result"
    }
   ],
   "source": [
    "\n",
    "n_fold=10\n",
    "len_fold=y.shape[0]//n_fold\n",
    "k=9\n",
    "k_fold=np.concatenate((y[:k*len_fold], y[(k+1)*len_fold:]))\n",
    "x_k=np.concatenate((x[:k*len_fold], x[(k+1)*len_fold:]))\n",
    "x_k.shape"
   ]
  },
  {
   "cell_type": "code",
   "execution_count": 13,
   "id": "64554ff9",
   "metadata": {},
   "outputs": [
    {
     "name": "stdout",
     "output_type": "stream",
     "text": [
      "0.1\n",
      "1\n",
      "10\n",
      "100\n",
      "200\n"
     ]
    }
   ],
   "source": [
    "lda_list=[0.1, 1, 10, 100, 200]\n",
    "for lda in lda_list:\n",
    "    print(lda)"
   ]
  },
  {
   "cell_type": "code",
   "execution_count": 14,
   "id": "929479b2",
   "metadata": {},
   "outputs": [],
   "source": [
    "xT=np.transpose(x)"
   ]
  },
  {
   "cell_type": "code",
   "execution_count": 15,
   "id": "b9a29cd1",
   "metadata": {},
   "outputs": [
    {
     "data": {
      "text/plain": [
       "array([-0.03833324,  0.03733255,  0.02237796,  3.71989865, -5.6979845 ,\n",
       "        5.35579469,  0.01440385, -0.79532608,  0.35229042, -0.01114316,\n",
       "       -0.29588   ,  0.02179952, -0.59271428])"
      ]
     },
     "execution_count": 15,
     "metadata": {},
     "output_type": "execute_result"
    }
   ],
   "source": [
    "w = np.linalg.inv(xT @ x) @ xT @ y\n",
    "w"
   ]
  },
  {
   "cell_type": "code",
   "execution_count": 16,
   "id": "2ace301c",
   "metadata": {},
   "outputs": [
    {
     "data": {
      "text/plain": [
       "3829.4620835590963"
      ]
     },
     "execution_count": 16,
     "metadata": {},
     "output_type": "execute_result"
    }
   ],
   "source": [
    "y_pred = x @ w_opt\n",
    "np.sum(np.square((y - y_pred)))"
   ]
  },
  {
   "cell_type": "code",
   "execution_count": 17,
   "id": "884b491a",
   "metadata": {},
   "outputs": [
    {
     "data": {
      "text/plain": [
       "5.052697024731179"
      ]
     },
     "execution_count": 17,
     "metadata": {},
     "output_type": "execute_result"
    }
   ],
   "source": [
    "RMSE = mean_squared_error(y, y_pred)**0.5\n",
    "RMSE"
   ]
  },
  {
   "cell_type": "code",
   "execution_count": 18,
   "id": "25a7e3ce",
   "metadata": {},
   "outputs": [
    {
     "data": {
      "text/plain": [
       "array([[ 0,  1,  2,  3],\n",
       "       [ 4,  5,  6,  7],\n",
       "       [ 8,  9, 10, 11]])"
      ]
     },
     "execution_count": 18,
     "metadata": {},
     "output_type": "execute_result"
    }
   ],
   "source": [
    "RMSE=np.arange(12).reshape((3, 4))\n",
    "RMSE"
   ]
  },
  {
   "cell_type": "code",
   "execution_count": 19,
   "id": "74010c9c",
   "metadata": {},
   "outputs": [],
   "source": [
    "mRM=np.mean(RMSE,axis=1)"
   ]
  },
  {
   "cell_type": "code",
   "execution_count": 20,
   "id": "a6ccec0b",
   "metadata": {},
   "outputs": [],
   "source": [
    "pd.DataFrame(mRM).to_csv(\"nRM.csv\", header=None, index=None)"
   ]
  },
  {
   "cell_type": "code",
   "execution_count": 26,
   "id": "2232bf74",
   "metadata": {},
   "outputs": [
    {
     "data": {
      "text/plain": [
       "array([[[ 0.        ,  0.        ,  0.        ,  0.        ,\n",
       "          0.        ,  0.        ,  0.        ,  0.        ,\n",
       "          0.        ,  0.        ,  0.        ,  0.        ,\n",
       "          0.        ],\n",
       "        [-0.03833324,  0.03733255,  0.02237796,  3.71989865,\n",
       "         -5.6979845 ,  5.35579469,  0.01440385, -0.79532608,\n",
       "          0.35229042, -0.01114316, -0.29588   ,  0.02179952,\n",
       "         -0.59271428],\n",
       "        [ 0.        ,  0.        ,  0.        ,  0.        ,\n",
       "          0.        ,  0.        ,  0.        ,  0.        ,\n",
       "          0.        ,  0.        ,  0.        ,  0.        ,\n",
       "          0.        ],\n",
       "        [ 0.        ,  0.        ,  0.        ,  0.        ,\n",
       "          0.        ,  0.        ,  0.        ,  0.        ,\n",
       "          0.        ,  0.        ,  0.        ,  0.        ,\n",
       "          0.        ],\n",
       "        [ 0.        ,  0.        ,  0.        ,  0.        ,\n",
       "          0.        ,  0.        ,  0.        ,  0.        ,\n",
       "          0.        ,  0.        ,  0.        ,  0.        ,\n",
       "          0.        ],\n",
       "        [ 0.        ,  0.        ,  0.        ,  0.        ,\n",
       "          0.        ,  0.        ,  0.        ,  0.        ,\n",
       "          0.        ,  0.        ,  0.        ,  0.        ,\n",
       "          0.        ],\n",
       "        [ 0.        ,  0.        ,  0.        ,  0.        ,\n",
       "          0.        ,  0.        ,  0.        ,  0.        ,\n",
       "          0.        ,  0.        ,  0.        ,  0.        ,\n",
       "          0.        ],\n",
       "        [ 0.        ,  0.        ,  0.        ,  0.        ,\n",
       "          0.        ,  0.        ,  0.        ,  0.        ,\n",
       "          0.        ,  0.        ,  0.        ,  0.        ,\n",
       "          0.        ],\n",
       "        [ 0.        ,  0.        ,  0.        ,  0.        ,\n",
       "          0.        ,  0.        ,  0.        ,  0.        ,\n",
       "          0.        ,  0.        ,  0.        ,  0.        ,\n",
       "          0.        ],\n",
       "        [ 0.        ,  0.        ,  0.        ,  0.        ,\n",
       "          0.        ,  0.        ,  0.        ,  0.        ,\n",
       "          0.        ,  0.        ,  0.        ,  0.        ,\n",
       "          0.        ]],\n",
       "\n",
       "       [[ 0.        ,  0.        ,  0.        ,  0.        ,\n",
       "          0.        ,  0.        ,  0.        ,  0.        ,\n",
       "          0.        ,  0.        ,  0.        ,  0.        ,\n",
       "          0.        ],\n",
       "        [ 0.        ,  0.        ,  0.        ,  0.        ,\n",
       "          0.        ,  0.        ,  0.        ,  0.        ,\n",
       "          0.        ,  0.        ,  0.        ,  0.        ,\n",
       "          0.        ],\n",
       "        [ 0.        ,  0.        ,  0.        ,  0.        ,\n",
       "          0.        ,  0.        ,  0.        ,  0.        ,\n",
       "          0.        ,  0.        ,  0.        ,  0.        ,\n",
       "          0.        ],\n",
       "        [ 0.        ,  0.        ,  0.        ,  0.        ,\n",
       "          0.        ,  0.        ,  0.        ,  0.        ,\n",
       "          0.        ,  0.        ,  0.        ,  0.        ,\n",
       "          0.        ],\n",
       "        [ 0.        ,  0.        ,  0.        ,  0.        ,\n",
       "          0.        ,  0.        ,  0.        ,  0.        ,\n",
       "          0.        ,  0.        ,  0.        ,  0.        ,\n",
       "          0.        ],\n",
       "        [ 0.        ,  0.        ,  0.        ,  0.        ,\n",
       "          0.        ,  0.        ,  0.        ,  0.        ,\n",
       "          0.        ,  0.        ,  0.        ,  0.        ,\n",
       "          0.        ],\n",
       "        [ 0.        ,  0.        ,  0.        ,  0.        ,\n",
       "          0.        ,  0.        ,  0.        ,  0.        ,\n",
       "          0.        ,  0.        ,  0.        ,  0.        ,\n",
       "          0.        ],\n",
       "        [ 0.        ,  0.        ,  0.        ,  0.        ,\n",
       "          0.        ,  0.        ,  0.        ,  0.        ,\n",
       "          0.        ,  0.        ,  0.        ,  0.        ,\n",
       "          0.        ],\n",
       "        [ 0.        ,  0.        ,  0.        ,  0.        ,\n",
       "          0.        ,  0.        ,  0.        ,  0.        ,\n",
       "          0.        ,  0.        ,  0.        ,  0.        ,\n",
       "          0.        ],\n",
       "        [ 0.        ,  0.        ,  0.        ,  0.        ,\n",
       "          0.        ,  0.        ,  0.        ,  0.        ,\n",
       "          0.        ,  0.        ,  0.        ,  0.        ,\n",
       "          0.        ]],\n",
       "\n",
       "       [[ 0.        ,  0.        ,  0.        ,  0.        ,\n",
       "          0.        ,  0.        ,  0.        ,  0.        ,\n",
       "          0.        ,  0.        ,  0.        ,  0.        ,\n",
       "          0.        ],\n",
       "        [ 0.        ,  0.        ,  0.        ,  0.        ,\n",
       "          0.        ,  0.        ,  0.        ,  0.        ,\n",
       "          0.        ,  0.        ,  0.        ,  0.        ,\n",
       "          0.        ],\n",
       "        [ 0.        ,  0.        ,  0.        ,  0.        ,\n",
       "          0.        ,  0.        ,  0.        ,  0.        ,\n",
       "          0.        ,  0.        ,  0.        ,  0.        ,\n",
       "          0.        ],\n",
       "        [ 0.        ,  0.        ,  0.        ,  0.        ,\n",
       "          0.        ,  0.        ,  0.        ,  0.        ,\n",
       "          0.        ,  0.        ,  0.        ,  0.        ,\n",
       "          0.        ],\n",
       "        [ 0.        ,  0.        ,  0.        ,  0.        ,\n",
       "          0.        ,  0.        ,  0.        ,  0.        ,\n",
       "          0.        ,  0.        ,  0.        ,  0.        ,\n",
       "          0.        ],\n",
       "        [ 0.        ,  0.        ,  0.        ,  0.        ,\n",
       "          0.        ,  0.        ,  0.        ,  0.        ,\n",
       "          0.        ,  0.        ,  0.        ,  0.        ,\n",
       "          0.        ],\n",
       "        [ 0.        ,  0.        ,  0.        ,  0.        ,\n",
       "          0.        ,  0.        ,  0.        ,  0.        ,\n",
       "          0.        ,  0.        ,  0.        ,  0.        ,\n",
       "          0.        ],\n",
       "        [ 0.        ,  0.        ,  0.        ,  0.        ,\n",
       "          0.        ,  0.        ,  0.        ,  0.        ,\n",
       "          0.        ,  0.        ,  0.        ,  0.        ,\n",
       "          0.        ],\n",
       "        [ 0.        ,  0.        ,  0.        ,  0.        ,\n",
       "          0.        ,  0.        ,  0.        ,  0.        ,\n",
       "          0.        ,  0.        ,  0.        ,  0.        ,\n",
       "          0.        ],\n",
       "        [ 0.        ,  0.        ,  0.        ,  0.        ,\n",
       "          0.        ,  0.        ,  0.        ,  0.        ,\n",
       "          0.        ,  0.        ,  0.        ,  0.        ,\n",
       "          0.        ]],\n",
       "\n",
       "       [[ 0.        ,  0.        ,  0.        ,  0.        ,\n",
       "          0.        ,  0.        ,  0.        ,  0.        ,\n",
       "          0.        ,  0.        ,  0.        ,  0.        ,\n",
       "          0.        ],\n",
       "        [ 0.        ,  0.        ,  0.        ,  0.        ,\n",
       "          0.        ,  0.        ,  0.        ,  0.        ,\n",
       "          0.        ,  0.        ,  0.        ,  0.        ,\n",
       "          0.        ],\n",
       "        [ 0.        ,  0.        ,  0.        ,  0.        ,\n",
       "          0.        ,  0.        ,  0.        ,  0.        ,\n",
       "          0.        ,  0.        ,  0.        ,  0.        ,\n",
       "          0.        ],\n",
       "        [ 0.        ,  0.        ,  0.        ,  0.        ,\n",
       "          0.        ,  0.        ,  0.        ,  0.        ,\n",
       "          0.        ,  0.        ,  0.        ,  0.        ,\n",
       "          0.        ],\n",
       "        [ 0.        ,  0.        ,  0.        ,  0.        ,\n",
       "          0.        ,  0.        ,  0.        ,  0.        ,\n",
       "          0.        ,  0.        ,  0.        ,  0.        ,\n",
       "          0.        ],\n",
       "        [ 0.        ,  0.        ,  0.        ,  0.        ,\n",
       "          0.        ,  0.        ,  0.        ,  0.        ,\n",
       "          0.        ,  0.        ,  0.        ,  0.        ,\n",
       "          0.        ],\n",
       "        [ 0.        ,  0.        ,  0.        ,  0.        ,\n",
       "          0.        ,  0.        ,  0.        ,  0.        ,\n",
       "          0.        ,  0.        ,  0.        ,  0.        ,\n",
       "          0.        ],\n",
       "        [ 0.        ,  0.        ,  0.        ,  0.        ,\n",
       "          0.        ,  0.        ,  0.        ,  0.        ,\n",
       "          0.        ,  0.        ,  0.        ,  0.        ,\n",
       "          0.        ],\n",
       "        [ 0.        ,  0.        ,  0.        ,  0.        ,\n",
       "          0.        ,  0.        ,  0.        ,  0.        ,\n",
       "          0.        ,  0.        ,  0.        ,  0.        ,\n",
       "          0.        ],\n",
       "        [ 0.        ,  0.        ,  0.        ,  0.        ,\n",
       "          0.        ,  0.        ,  0.        ,  0.        ,\n",
       "          0.        ,  0.        ,  0.        ,  0.        ,\n",
       "          0.        ]],\n",
       "\n",
       "       [[ 0.        ,  0.        ,  0.        ,  0.        ,\n",
       "          0.        ,  0.        ,  0.        ,  0.        ,\n",
       "          0.        ,  0.        ,  0.        ,  0.        ,\n",
       "          0.        ],\n",
       "        [ 0.        ,  0.        ,  0.        ,  0.        ,\n",
       "          0.        ,  0.        ,  0.        ,  0.        ,\n",
       "          0.        ,  0.        ,  0.        ,  0.        ,\n",
       "          0.        ],\n",
       "        [ 0.        ,  0.        ,  0.        ,  0.        ,\n",
       "          0.        ,  0.        ,  0.        ,  0.        ,\n",
       "          0.        ,  0.        ,  0.        ,  0.        ,\n",
       "          0.        ],\n",
       "        [ 0.        ,  0.        ,  0.        ,  0.        ,\n",
       "          0.        ,  0.        ,  0.        ,  0.        ,\n",
       "          0.        ,  0.        ,  0.        ,  0.        ,\n",
       "          0.        ],\n",
       "        [ 0.        ,  0.        ,  0.        ,  0.        ,\n",
       "          0.        ,  0.        ,  0.        ,  0.        ,\n",
       "          0.        ,  0.        ,  0.        ,  0.        ,\n",
       "          0.        ],\n",
       "        [ 0.        ,  0.        ,  0.        ,  0.        ,\n",
       "          0.        ,  0.        ,  0.        ,  0.        ,\n",
       "          0.        ,  0.        ,  0.        ,  0.        ,\n",
       "          0.        ],\n",
       "        [ 0.        ,  0.        ,  0.        ,  0.        ,\n",
       "          0.        ,  0.        ,  0.        ,  0.        ,\n",
       "          0.        ,  0.        ,  0.        ,  0.        ,\n",
       "          0.        ],\n",
       "        [ 0.        ,  0.        ,  0.        ,  0.        ,\n",
       "          0.        ,  0.        ,  0.        ,  0.        ,\n",
       "          0.        ,  0.        ,  0.        ,  0.        ,\n",
       "          0.        ],\n",
       "        [ 0.        ,  0.        ,  0.        ,  0.        ,\n",
       "          0.        ,  0.        ,  0.        ,  0.        ,\n",
       "          0.        ,  0.        ,  0.        ,  0.        ,\n",
       "          0.        ],\n",
       "        [ 0.        ,  0.        ,  0.        ,  0.        ,\n",
       "          0.        ,  0.        ,  0.        ,  0.        ,\n",
       "          0.        ,  0.        ,  0.        ,  0.        ,\n",
       "          0.        ]]])"
      ]
     },
     "execution_count": 26,
     "metadata": {},
     "output_type": "execute_result"
    }
   ],
   "source": [
    "RMSE=np.zeros((len(lda_list),n_fold,x.shape[1]))\n",
    "RMSE[0,1,:]=w\n",
    "RMSE"
   ]
  },
  {
   "cell_type": "code",
   "execution_count": 29,
   "id": "d2545df5",
   "metadata": {},
   "outputs": [],
   "source": [
    "for i in range(len(lda_list)):\n",
    "    pd.DataFrame(RMSE[i]).to_csv(f'./task1a/RMSE_test{i}.csv', header=None, index=None)"
   ]
  },
  {
   "cell_type": "code",
   "execution_count": 40,
   "id": "150d7576",
   "metadata": {},
   "outputs": [
    {
     "data": {
      "text/plain": [
       "array([[-2.95275856e-02,  4.01350168e-02, -1.86449223e-02,\n",
       "         1.87540836e+00,  1.10555783e+00,  4.89300038e+00,\n",
       "         4.73413617e-03, -6.71651964e-01,  3.87243218e-01,\n",
       "        -1.65187177e-02, -2.15514929e-01,  2.14206406e-02,\n",
       "        -5.66393465e-01],\n",
       "       [-3.30976017e-02,  3.70495650e-02,  7.08740935e-03,\n",
       "         1.92498578e+00,  9.47328376e-01,  5.39912398e+00,\n",
       "         7.60628707e-04, -7.81281241e-01,  3.79404558e-01,\n",
       "        -1.42038241e-02, -4.26447909e-01,  2.36187593e-02,\n",
       "        -5.91392076e-01],\n",
       "       [-2.96562605e-02,  2.63933251e-02, -7.81621759e-02,\n",
       "         1.40810466e+00,  9.59728489e-01,  5.18365574e+00,\n",
       "         2.17756587e-02, -6.02051655e-01,  3.49764254e-01,\n",
       "        -9.96661591e-03, -4.67027112e-01,  2.28378373e-02,\n",
       "        -5.85285286e-01],\n",
       "       [-3.54306073e-02,  5.26927014e-02, -1.60562724e-02,\n",
       "         2.07671287e+00,  1.00311565e+00,  4.90755448e+00,\n",
       "         3.41334753e-02, -7.69047112e-01,  3.76156735e-01,\n",
       "        -1.32390113e-02, -2.78844805e-01,  2.06445848e-02,\n",
       "        -6.96964000e-01],\n",
       "       [-5.56258939e-02,  4.17353616e-02,  1.74198201e-02,\n",
       "         1.88921731e+00,  9.87427731e-01,  4.91681482e+00,\n",
       "         2.11048067e-02, -6.00385888e-01,  4.06789248e-01,\n",
       "        -1.27091287e-02, -3.53643871e-01,  2.30208020e-02,\n",
       "        -6.71106722e-01],\n",
       "       [-4.16797821e-02,  5.17067339e-02,  6.73568239e-02,\n",
       "         2.10227216e+00,  1.05784066e+00,  4.51325189e+00,\n",
       "         8.92457036e-03, -6.29239790e-01,  2.85736416e-01,\n",
       "        -1.12381447e-02, -1.68707321e-01,  2.02793781e-02,\n",
       "        -6.27739864e-01],\n",
       "       [-6.36473617e-02,  4.93030707e-02, -9.46539739e-03,\n",
       "         1.93309077e+00,  1.03926134e+00,  5.02359359e+00,\n",
       "         3.95474411e-02, -6.53591645e-01,  3.78131140e-01,\n",
       "        -1.43757794e-02, -2.39061319e-01,  1.83155048e-02,\n",
       "        -7.43592661e-01],\n",
       "       [-2.99817260e-02,  3.59851140e-02,  4.09356735e-03,\n",
       "         1.76291334e+00,  1.05144699e+00,  4.59826275e+00,\n",
       "         4.03438307e-03, -8.31377926e-01,  3.49973190e-01,\n",
       "        -1.21494438e-02, -7.25577323e-02,  2.19076575e-02,\n",
       "        -7.39796868e-01],\n",
       "       [-6.78953317e-02,  5.37944201e-02,  8.28915481e-03,\n",
       "         1.81793562e+00,  1.01745365e+00,  5.27430052e+00,\n",
       "         1.28054479e-02, -9.23708782e-01,  4.47649894e-01,\n",
       "        -1.64194410e-02, -2.81697264e-01,  2.00934788e-02,\n",
       "        -6.28620593e-01],\n",
       "       [-3.45059222e-02,  4.03251594e-02,  2.36705427e-02,\n",
       "         1.93906018e+00,  9.61397352e-01,  5.01799915e+00,\n",
       "         1.47187828e-02, -6.75765958e-01,  3.87212585e-01,\n",
       "        -1.32061346e-02, -3.62092750e-01,  2.20533508e-02,\n",
       "        -6.17544734e-01]])"
      ]
     },
     "execution_count": 40,
     "metadata": {},
     "output_type": "execute_result"
    }
   ],
   "source": [
    "try:\n",
    "    df_w = pd.read_csv('./task1a/w_opt_lda=1.csv', header=None)\n",
    "    w = df_w.to_numpy()\n",
    "except:\n",
    "    w = np.ones(()) \n",
    "w"
   ]
  },
  {
   "cell_type": "code",
   "execution_count": null,
   "id": "115e4fff",
   "metadata": {},
   "outputs": [],
   "source": []
  }
 ],
 "metadata": {
  "kernelspec": {
   "display_name": "Python 3 (ipykernel)",
   "language": "python",
   "name": "python3"
  },
  "language_info": {
   "codemirror_mode": {
    "name": "ipython",
    "version": 3
   },
   "file_extension": ".py",
   "mimetype": "text/x-python",
   "name": "python",
   "nbconvert_exporter": "python",
   "pygments_lexer": "ipython3",
   "version": "3.7.11"
  }
 },
 "nbformat": 4,
 "nbformat_minor": 5
}
