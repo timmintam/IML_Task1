{
 "cells": [
  {
   "cell_type": "code",
   "execution_count": 1,
   "id": "1aa71286",
   "metadata": {},
   "outputs": [],
   "source": [
    "import numpy as np\n",
    "import pandas as pd\n",
    "from sklearn.metrics import mean_squared_error\n",
    "from gradient_descent import Objective, gradient_descent_momentum"
   ]
  },
  {
   "cell_type": "code",
   "execution_count": 2,
   "id": "0b20d499",
   "metadata": {},
   "outputs": [],
   "source": [
    "df_train = pd.read_csv('./task1a/train.csv')\n",
    "x=df_train.iloc[:,1:].to_numpy()\n",
    "y=df_train.iloc[:,0].to_numpy()\n",
    "lda=0.1\n",
    "w = np.arange(13)\n",
    "\n",
    "egv,evec=np.linalg.eig(np.transpose(x)@x)\n",
    "meig=max(egv)\n",
    "eta=1/meig"
   ]
  },
  {
   "cell_type": "code",
   "execution_count": 3,
   "id": "66e4c7a8",
   "metadata": {},
   "outputs": [],
   "source": [
    "def loss(y,x,w,lda=0):\n",
    "    return np.sum(np.square((y - x@w))) + lda*np.sum(np.square(w))"
   ]
  },
  {
   "cell_type": "code",
   "execution_count": 4,
   "id": "9e8b7278",
   "metadata": {},
   "outputs": [
    {
     "name": "stdout",
     "output_type": "stream",
     "text": [
      "[[0. 1. 2.]\n",
      " [3. 4. 5.]\n",
      " [6. 7. 8.]]\n",
      "[0. 1. 2.]\n",
      "[[ 0.  0.  0.]\n",
      " [ 3.  4.  5.]\n",
      " [12. 14. 16.]]\n",
      "[15. 18. 21.]\n"
     ]
    }
   ],
   "source": [
    "x1 = np.arange(9.0).reshape((3, 3))\n",
    "x2 = np.arange(3.0)\n",
    "print(x1)\n",
    "print(x2)\n",
    "print(np.transpose(np.transpose(x1)*x2))\n",
    "print(np.sum(np.transpose(np.transpose(x1)*x2), axis=0))"
   ]
  },
  {
   "cell_type": "code",
   "execution_count": 5,
   "id": "273a2b60",
   "metadata": {
    "scrolled": true
   },
   "outputs": [
    {
     "name": "stdout",
     "output_type": "stream",
     "text": [
      "(13,)\n"
     ]
    }
   ],
   "source": [
    "w = np.ones(13)\n",
    "(y - x@w) \n",
    "print(w.shape)"
   ]
  },
  {
   "cell_type": "code",
   "execution_count": 6,
   "id": "061a0ca1",
   "metadata": {},
   "outputs": [],
   "source": [
    "g=np.zeros(len(w))\n",
    "for i in range(len(w)):\n",
    "    for k in range(len(y)):\n",
    "        g[i]+=-2*(y[k]-x[k,:]@w)*x[k,i] \n",
    "        \n",
    "\n",
    "\n"
   ]
  },
  {
   "cell_type": "code",
   "execution_count": 7,
   "id": "9b3c4b0a",
   "metadata": {},
   "outputs": [
    {
     "name": "stdout",
     "output_type": "stream",
     "text": [
      "[ 9.31322575e-10  0.00000000e+00  9.31322575e-10  0.00000000e+00\n",
      "  0.00000000e+00 -6.98491931e-10  3.72529030e-09  1.16415322e-10\n",
      "  9.31322575e-10 -4.47034836e-08  9.31322575e-10  5.96046448e-08\n",
      " -9.31322575e-10]\n"
     ]
    }
   ],
   "source": [
    "g2=2*np.sum(-np.transpose(np.transpose(x)*(y - x@w)), axis=0) #+ 2*lda*w\n",
    "print(g-g2)"
   ]
  },
  {
   "cell_type": "code",
   "execution_count": 8,
   "id": "125e0969",
   "metadata": {},
   "outputs": [],
   "source": [
    "class ToyObjective(Objective):\n",
    "    def __init__(self, x, y, lda, delta):\n",
    "        self.x = x\n",
    "        self.y = y\n",
    "        self.lda = lda\n",
    "        self.delta=delta\n",
    "        \n",
    "    def __call__(self, w):\n",
    "        xw=self.x@w\n",
    "        return np.transpose(xw)@xw-2*np.transpose(xw)@y+np.transpose(y)@y + self.lda*np.transpose(w)@w\n",
    "        #return np.sum(np.square((self.y - self.x@w))) + self.lda*np.sum(np.square(w))\n",
    "    \n",
    "    \n",
    "    def grad(self, w):\n",
    "        return  2*np.sum(-np.transpose(np.transpose(self.x)*(self.y - self.x@w)), axis=0) + 2*lda*w\n"
   ]
  },
  {
   "cell_type": "code",
   "execution_count": 9,
   "id": "7f796849",
   "metadata": {},
   "outputs": [
    {
     "data": {
      "text/plain": [
       "array([1.36453442e+06, 2.60013378e+06, 3.25741215e+06, 2.05640834e+04,\n",
       "       1.51695525e+05, 1.66054856e+06, 1.89186640e+07, 9.86574602e+05,\n",
       "       3.06095032e+06, 1.21525881e+08, 4.99641194e+06, 9.32659237e+07,\n",
       "       3.77396939e+06])"
      ]
     },
     "execution_count": 9,
     "metadata": {},
     "output_type": "execute_result"
    }
   ],
   "source": [
    "delta=1e-3\n",
    "obj = ToyObjective(x,y,lda,delta)\n",
    "w = np.asarray([ 1.17906498e-01,  2.65164537e-01, -2.98959152e-01,  9.10244717e-03,\n",
    "       -8.05311495e+01,  7.72027964e+00,  1.04495021e-01, -7.53719394e+00,\n",
    "       -4.65910380e-01,  3.19629266e-02,  1.24905325e+00,  5.51701733e-02,\n",
    "       -9.62625143e-01])\n",
    "w = np.ones(13)\n",
    "obj.grad(w)"
   ]
  },
  {
   "cell_type": "code",
   "execution_count": 10,
   "id": "3e532374",
   "metadata": {},
   "outputs": [
    {
     "data": {
      "text/plain": [
       "array([1.36454976e+06, 2.60022694e+06, 3.25743785e+06, 2.05640955e+04,\n",
       "       1.51695573e+05, 1.66055445e+06, 1.89194708e+07, 9.86577561e+05,\n",
       "       3.06097721e+06, 1.21556993e+08, 4.99646341e+06, 9.32855717e+07,\n",
       "       3.77400363e+06])"
      ]
     },
     "execution_count": 10,
     "metadata": {},
     "output_type": "execute_result"
    }
   ],
   "source": [
    "g=np.zeros(len(w))\n",
    "for i in range(len(w)):\n",
    "    dw=np.zeros(len(w))\n",
    "    dw[i]=delta\n",
    "    g[i]=(obj(w+dw) - obj(w))/delta\n",
    "g"
   ]
  },
  {
   "cell_type": "code",
   "execution_count": 11,
   "id": "c75fb503",
   "metadata": {},
   "outputs": [],
   "source": [
    "learning_rate = 0.9*eta\n",
    "tol = 1e-10\n",
    "n_steps = 100000\n",
    "w_init = w\n",
    "normalize = False"
   ]
  },
  {
   "cell_type": "code",
   "execution_count": 12,
   "id": "913de80a",
   "metadata": {
    "scrolled": true
   },
   "outputs": [
    {
     "data": {
      "text/plain": [
       "array([1.24918764e+08, 7.30894673e+08, 1.62852982e+08, ...,\n",
       "       3.83259316e+03, 3.83259287e+03, 3.83259259e+03])"
      ]
     },
     "execution_count": 12,
     "metadata": {},
     "output_type": "execute_result"
    }
   ],
   "source": [
    "results = gradient_descent_momentum(obj, w_init, learning_rate=learning_rate, tol=tol, n_steps=n_steps, normalize=normalize)\n",
    "results[2]"
   ]
  },
  {
   "cell_type": "code",
   "execution_count": 13,
   "id": "fefbe94a",
   "metadata": {},
   "outputs": [],
   "source": [
    "w_opt=results[0]"
   ]
  },
  {
   "cell_type": "code",
   "execution_count": 14,
   "id": "942a368c",
   "metadata": {},
   "outputs": [
    {
     "data": {
      "text/plain": [
       "3829.4620835590963"
      ]
     },
     "execution_count": 14,
     "metadata": {},
     "output_type": "execute_result"
    }
   ],
   "source": [
    "np.sum(np.square((y - x@w_opt)))"
   ]
  },
  {
   "cell_type": "code",
   "execution_count": 15,
   "id": "960c07cd",
   "metadata": {},
   "outputs": [
    {
     "data": {
      "text/plain": [
       "array([-1.88607595e-01,  2.46131641e-01,  8.18189194e-01, -2.80727977e+01,\n",
       "        6.11300607e+00, -2.49610673e+01,  4.95356026e-01,  5.85294956e+00,\n",
       "       -3.49964704e-01,  5.03370667e-03,  5.85402320e+00,  1.64170247e-02,\n",
       "       -1.95838869e+00])"
      ]
     },
     "execution_count": 15,
     "metadata": {},
     "output_type": "execute_result"
    }
   ],
   "source": [
    "obj.grad(w_opt)"
   ]
  },
  {
   "cell_type": "code",
   "execution_count": 16,
   "id": "822fdeab",
   "metadata": {},
   "outputs": [],
   "source": [
    "n_fold=10\n",
    "len_fold=y.shape[0]//n_fold\n",
    "k=9\n",
    "#np.concatenate((y[:i*len_fold], y[(i+1)*len_fold:]))\n",
    "k_fold=np.delete(y,np.s_[k*len_fold:(k+1)*len_fold])"
   ]
  },
  {
   "cell_type": "code",
   "execution_count": 17,
   "id": "929479b2",
   "metadata": {},
   "outputs": [],
   "source": [
    "xT=np.transpose(x)"
   ]
  },
  {
   "cell_type": "code",
   "execution_count": 18,
   "id": "b9a29cd1",
   "metadata": {},
   "outputs": [
    {
     "data": {
      "text/plain": [
       "array([-0.03833324,  0.03733255,  0.02237796,  3.71989865, -5.6979845 ,\n",
       "        5.35579469,  0.01440385, -0.79532608,  0.35229042, -0.01114316,\n",
       "       -0.29588   ,  0.02179952, -0.59271428])"
      ]
     },
     "execution_count": 18,
     "metadata": {},
     "output_type": "execute_result"
    }
   ],
   "source": [
    "w = np.linalg.inv(xT @ x) @ xT @ y\n",
    "w"
   ]
  },
  {
   "cell_type": "code",
   "execution_count": 19,
   "id": "2ace301c",
   "metadata": {},
   "outputs": [
    {
     "data": {
      "text/plain": [
       "3779.5630033782295"
      ]
     },
     "execution_count": 19,
     "metadata": {},
     "output_type": "execute_result"
    }
   ],
   "source": [
    "y_pred = x @ w\n",
    "np.sum(np.square((y - x@w)))"
   ]
  },
  {
   "cell_type": "code",
   "execution_count": 20,
   "id": "884b491a",
   "metadata": {},
   "outputs": [
    {
     "data": {
      "text/plain": [
       "5.019669978114916"
      ]
     },
     "execution_count": 20,
     "metadata": {},
     "output_type": "execute_result"
    }
   ],
   "source": [
    "RMSE = mean_squared_error(y, y_pred)**0.5\n",
    "RMSE"
   ]
  },
  {
   "cell_type": "code",
   "execution_count": null,
   "id": "25a7e3ce",
   "metadata": {},
   "outputs": [],
   "source": []
  }
 ],
 "metadata": {
  "kernelspec": {
   "display_name": "Python 3 (ipykernel)",
   "language": "python",
   "name": "python3"
  },
  "language_info": {
   "codemirror_mode": {
    "name": "ipython",
    "version": 3
   },
   "file_extension": ".py",
   "mimetype": "text/x-python",
   "name": "python",
   "nbconvert_exporter": "python",
   "pygments_lexer": "ipython3",
   "version": "3.7.11"
  }
 },
 "nbformat": 4,
 "nbformat_minor": 5
}
